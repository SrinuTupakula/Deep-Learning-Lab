{
 "cells": [
  {
   "cell_type": "markdown",
   "id": "0f5133f9-0d25-41cc-a3f2-881282adbe56",
   "metadata": {},
   "source": [
    "<center><h4>EXPERIMENT 2</h4></center>"
   ]
  },
  {
   "cell_type": "markdown",
   "id": "16710783-a1d7-472e-a0b6-d7ea3e70ea7c",
   "metadata": {},
   "source": [
    "<center><h4>CLASSIFICATION ON CIFAR-10 DATASET (COLOUR IMAGES)</h4></center>"
   ]
  },
  {
   "cell_type": "markdown",
   "id": "6e23fdd5-e3ba-4669-ab7f-08be4203a399",
   "metadata": {},
   "source": [
    "#### AIM:\n",
    "To build and train a Convolutional Neural Network (CNN) for classifying color images from the CIFAR-10 dataset into 10 distinct classes."
   ]
  },
  {
   "cell_type": "markdown",
   "id": "a248d052-0b8c-47c2-b663-85cdd47f303f",
   "metadata": {},
   "source": [
    "#### PRE-REQUISITES:\n",
    "1. Basics of Machine Learning\n",
    "2. Python Programming\n",
    "3. Knowledge on Numpy, Pandas, Matplotlib, TensorFlow/ Keras\n",
    "4. Jupyter Notebook\n",
    "5. Data Pre-Processing Techniques\n",
    "6. Knowledge on Neural Networks"
   ]
  },
  {
   "cell_type": "markdown",
   "id": "14529670-38ac-4524-ac28-737be1332115",
   "metadata": {},
   "source": [
    "#### CIFAR-10 Dataset"
   ]
  },
  {
   "cell_type": "markdown",
   "id": "1c065bff-14f3-4da0-89b8-84d25c0bed88",
   "metadata": {},
   "source": [
    "- CIFAR-10 contains 60,000 color images of size 32x32 pixels, split into 10 classes. \n",
    "- The classes include common objects like airplane, car, bird, cat, deer, dog, frog, horse, ship and truck.\n",
    "- It has 50,000 training images and 10,000 test images, divided among the 10 classes."
   ]
  },
  {
   "cell_type": "markdown",
   "id": "890b1b44-6900-4383-b3d3-65270a8e15cd",
   "metadata": {},
   "source": [
    "<center><img src='CIFAR.png' border=1 height=600 width=600></center>"
   ]
  },
  {
   "cell_type": "markdown",
   "id": "02602361-8fc2-4159-9967-74042b59bfde",
   "metadata": {},
   "source": [
    "### 1. Importing the Basic Libraries"
   ]
  },
  {
   "cell_type": "code",
   "execution_count": 1,
   "id": "a80513c1-9461-454b-8ac3-c44eaae751b6",
   "metadata": {},
   "outputs": [],
   "source": [
    "import pandas as pd\n",
    "import numpy as np\n",
    "import matplotlib.pyplot as plt\n",
    "\n",
    "# It tells Jupyter to display Matplotlib plots directly below the code cell that produced them, inside the notebook.\n",
    "# You don’t need to call plt.show() \n",
    "%matplotlib inline"
   ]
  },
  {
   "cell_type": "markdown",
   "id": "de315551-6cb8-41ae-9dad-115e6facfb07",
   "metadata": {},
   "source": [
    "### 2. Importing the Built-in CIFAR-10 dataset from the Keras"
   ]
  },
  {
   "cell_type": "code",
   "execution_count": 2,
   "id": "7c384740-183b-42dd-b3ca-862e97c66ca5",
   "metadata": {},
   "outputs": [
    {
     "name": "stderr",
     "output_type": "stream",
     "text": [
      "/Users/srinutupakula/Library/Python/3.9/lib/python/site-packages/urllib3/__init__.py:35: NotOpenSSLWarning: urllib3 v2 only supports OpenSSL 1.1.1+, currently the 'ssl' module is compiled with 'LibreSSL 2.8.3'. See: https://github.com/urllib3/urllib3/issues/3020\n",
      "  warnings.warn(\n"
     ]
    }
   ],
   "source": [
    "from tensorflow.keras.datasets import cifar10"
   ]
  },
  {
   "cell_type": "code",
   "execution_count": 3,
   "id": "7e418c07-9fa5-4b63-bb9f-7a35ee74551d",
   "metadata": {
    "scrolled": true
   },
   "outputs": [],
   "source": [
    "# Load the CIFAR-10 dataset as Training and Testing data\n",
    "(X_train,y_train),(X_test,y_test) = cifar10.load_data()"
   ]
  },
  {
   "cell_type": "code",
   "execution_count": 4,
   "id": "a20d9c41-f7af-46ba-9dff-c68b1f6dc407",
   "metadata": {},
   "outputs": [
    {
     "data": {
      "text/plain": [
       "((50000, 32, 32, 3), (50000, 1))"
      ]
     },
     "execution_count": 4,
     "metadata": {},
     "output_type": "execute_result"
    }
   ],
   "source": [
    "X_train.shape, y_train.shape\n",
    "# 50,000 Images, each image is 32x32 pixel"
   ]
  },
  {
   "cell_type": "code",
   "execution_count": null,
   "id": "09903794-951a-4c9a-a993-75718caa8417",
   "metadata": {},
   "outputs": [],
   "source": [
    "# Reading one Image of the CIFAR-10 X_train data\n",
    "X_train[12]"
   ]
  },
  {
   "cell_type": "code",
   "execution_count": 6,
   "id": "12e5377e-019b-48c7-bbb8-356477febb53",
   "metadata": {},
   "outputs": [
    {
     "data": {
      "text/plain": [
       "<matplotlib.image.AxesImage at 0x1645c18b0>"
      ]
     },
     "execution_count": 6,
     "metadata": {},
     "output_type": "execute_result"
    },
    {
     "data": {
      "image/png": "[encoded data removed]",
      "text/plain": [
       "<Figure size 640x480 with 1 Axes>"
      ]
     },
     "metadata": {},
     "output_type": "display_data"
    }
   ],
   "source": [
    "# Viewing the Image 12 of X_train\n",
    "plt.imshow(X_train[12])"
   ]
  },
  {
   "cell_type": "code",
   "execution_count": 7,
   "id": "2a027f08-982d-4422-be91-818d1742b11b",
   "metadata": {},
   "outputs": [
    {
     "data": {
      "text/plain": [
       "array([[6],\n",
       "       [9],\n",
       "       [9],\n",
       "       ...,\n",
       "       [9],\n",
       "       [1],\n",
       "       [1]], dtype=uint8)"
      ]
     },
     "execution_count": 7,
     "metadata": {},
     "output_type": "execute_result"
    }
   ],
   "source": [
    "# Checking y_train data\n",
    "y_train"
   ]
  },
  {
   "cell_type": "markdown",
   "id": "3230d0ab-9407-4bd2-891e-7a3b84bf6168",
   "metadata": {},
   "source": [
    "### 3. Pre-Process the Data as required"
   ]
  },
  {
   "cell_type": "code",
   "execution_count": 8,
   "id": "89fb58ec-8f77-475c-ad42-4e1e2723b56c",
   "metadata": {},
   "outputs": [],
   "source": [
    "# Since, this is classification problem, we need to encode the y_train data\n",
    "# If not the model assume the y label is a continuous data"
   ]
  },
  {
   "cell_type": "code",
   "execution_count": 9,
   "id": "d3453de0-69e6-48ee-92ba-bb6486e4f327",
   "metadata": {},
   "outputs": [],
   "source": [
    "# Import the library\n",
    "from tensorflow.keras.utils import to_categorical"
   ]
  },
  {
   "cell_type": "code",
   "execution_count": 10,
   "id": "7c8040a9-7f33-4d56-82fd-a1ad9e9ca2ef",
   "metadata": {},
   "outputs": [
    {
     "data": {
      "text/plain": [
       "(50000, 1)"
      ]
     },
     "execution_count": 10,
     "metadata": {},
     "output_type": "execute_result"
    }
   ],
   "source": [
    "# Shape of the y_train\n",
    "y_train.shape"
   ]
  },
  {
   "cell_type": "markdown",
   "id": "0790ddf6-6e58-4c9f-a491-d59e1b23ab90",
   "metadata": {},
   "source": [
    "#### One-hot Encoding the y"
   ]
  },
  {
   "cell_type": "code",
   "execution_count": 11,
   "id": "f63c4901-15eb-4043-9c6a-86d1b321a8fd",
   "metadata": {},
   "outputs": [],
   "source": [
    "# Convert class labels to one-hot encoding\n",
    "# num_classes=10 tells the function that your classification task has 10 different classes\n",
    "y_train_cat = to_categorical(y_train, num_classes=10)\n",
    "y_test_cat = to_categorical(y_test, num_classes=10) "
   ]
  },
  {
   "cell_type": "code",
   "execution_count": 12,
   "id": "988f1c7b-b6b0-4ed5-ae95-3ba7fb67b702",
   "metadata": {},
   "outputs": [
    {
     "data": {
      "text/plain": [
       "array([0., 0., 0., 0., 0., 0., 0., 0., 1., 0.])"
      ]
     },
     "execution_count": 12,
     "metadata": {},
     "output_type": "execute_result"
    }
   ],
   "source": [
    "# the index of one represents the actual output digit\n",
    "# the 8th row belongs to digit 1\n",
    "y_train_cat[8]"
   ]
  },
  {
   "cell_type": "markdown",
   "id": "01fbace1-1727-4a38-8b5c-536e1ffbaccb",
   "metadata": {},
   "source": [
    "#### Scaling the Data"
   ]
  },
  {
   "cell_type": "code",
   "execution_count": 13,
   "id": "0b055adf-e72f-4ee5-874a-a59c83fbe78c",
   "metadata": {},
   "outputs": [],
   "source": [
    "# Each pixel value of every image is ranging from 0 to 255\n",
    "# So, normalize every value in between 0 to 1"
   ]
  },
  {
   "cell_type": "code",
   "execution_count": 14,
   "id": "46c8f5f6-f0a0-4e44-8f2d-2bfbae5ffb87",
   "metadata": {},
   "outputs": [],
   "source": [
    "# Normalize the pixel values to range [0, 1]\n",
    "# the max value of any pixel is 255, so dividing each value with 255 will normalize the value to maximum 1\n",
    "X_train = X_train / 255.0\n",
    "X_test = X_test / 255.0"
   ]
  },
  {
   "cell_type": "code",
   "execution_count": 15,
   "id": "45ff1bb0-c6b3-44d6-9f4f-d02e2eba9dac",
   "metadata": {},
   "outputs": [
    {
     "data": {
      "text/plain": [
       "((50000, 32, 32, 3), (50000, 1), (10000, 32, 32, 3), (10000, 1))"
      ]
     },
     "execution_count": 15,
     "metadata": {},
     "output_type": "execute_result"
    }
   ],
   "source": [
    "# Shapes of the data\n",
    "X_train.shape, y_train.shape, X_test.shape, y_test.shape"
   ]
  },
  {
   "cell_type": "markdown",
   "id": "12a10f4b-2fa7-4757-ba40-92ac40bb3b86",
   "metadata": {},
   "source": [
    "### 4. Build the Model"
   ]
  },
  {
   "cell_type": "code",
   "execution_count": 16,
   "id": "7d663d51-657c-4079-b3ef-dd37a7969d9c",
   "metadata": {},
   "outputs": [],
   "source": [
    "# import the libraries\n",
    "from tensorflow.keras.models import Sequential\n",
    "from tensorflow.keras.layers import Dense, Conv2D, MaxPool2D, Flatten"
   ]
  },
  {
   "cell_type": "markdown",
   "id": "70a76d7b-bcdb-421c-94a3-91b7f5798d12",
   "metadata": {},
   "source": [
    "#### Create the Model"
   ]
  },
  {
   "cell_type": "code",
   "execution_count": 17,
   "id": "d7a972d3-0dd9-411e-8562-ddfcb345090e",
   "metadata": {},
   "outputs": [],
   "source": [
    "# Model Instance\n",
    "model = Sequential()"
   ]
  },
  {
   "cell_type": "code",
   "execution_count": 18,
   "id": "cb33d05b-c269-4937-8a41-559126186887",
   "metadata": {},
   "outputs": [
    {
     "name": "stderr",
     "output_type": "stream",
     "text": [
      "/Users/srinutupakula/Library/Python/3.9/lib/python/site-packages/keras/src/layers/convolutional/base_conv.py:107: UserWarning: Do not pass an `input_shape`/`input_dim` argument to a layer. When using Sequential models, prefer using an `Input(shape)` object as the first layer in the model instead.\n",
      "  super().__init__(activity_regularizer=activity_regularizer, **kwargs)\n"
     ]
    }
   ],
   "source": [
    "# For more complex data, better to add more number of convolution & pooling layers\n",
    "\n",
    "# Convolution Layer\n",
    "model.add(Conv2D(filters=32,kernel_size=(4,4),input_shape=(32,32,3),activation='relu'))\n",
    "# Pooling Layer\n",
    "model.add(MaxPool2D(pool_size=(2,2)))\n",
    "\n",
    "# Convolution Layer\n",
    "model.add(Conv2D(filters=32,kernel_size=(4,4),input_shape=(32,32,3),activation='relu'))\n",
    "# Pooling Layer\n",
    "model.add(MaxPool2D(pool_size=(2,2)))"
   ]
  },
  {
   "cell_type": "code",
   "execution_count": 19,
   "id": "a7210d46-3e9c-43ce-b2a0-0840cdb1da48",
   "metadata": {},
   "outputs": [],
   "source": [
    "# Flatten Layer\n",
    "model.add(Flatten())"
   ]
  },
  {
   "cell_type": "code",
   "execution_count": 20,
   "id": "9197bc96-7c97-4159-86c8-6acd4ec47818",
   "metadata": {},
   "outputs": [],
   "source": [
    "# Dense Layers (Fully Connected Layers)\n",
    "model.add(Dense(256,activation='relu'))"
   ]
  },
  {
   "cell_type": "code",
   "execution_count": 21,
   "id": "027e4295-2055-4c39-8d32-fef109d7496f",
   "metadata": {},
   "outputs": [],
   "source": [
    "# Output Layer (For multiclass use softmax)\n",
    "model.add(Dense(10,activation='softmax'))"
   ]
  },
  {
   "cell_type": "markdown",
   "id": "af9d588f-8abc-4b6f-bc59-78c6ce65fc1e",
   "metadata": {},
   "source": [
    "#### Compile the Model"
   ]
  },
  {
   "cell_type": "code",
   "execution_count": 22,
   "id": "c68161bd-ba53-459c-8b01-5607b581c446",
   "metadata": {},
   "outputs": [],
   "source": [
    "model.compile(loss='categorical_crossentropy', optimizer='adam', metrics=['accuracy'])"
   ]
  },
  {
   "cell_type": "code",
   "execution_count": 23,
   "id": "966686c0-dd1c-42b9-889e-525535fe668d",
   "metadata": {},
   "outputs": [
    {
     "data": {
      "text/html": [
       "<pre style=\"white-space:pre;overflow-x:auto;line-height:normal;font-family:Menlo,'DejaVu Sans Mono',consolas,'Courier New',monospace\"><span style=\"font-weight: bold\">Model: \"sequential\"</span>\n",
       "</pre>\n"
      ],
      "text/plain": [
       "\u001b[1mModel: \"sequential\"\u001b[0m\n"
      ]
     },
     "metadata": {},
     "output_type": "display_data"
    },
    {
     "data": {
      "text/html": [
       "<pre style=\"white-space:pre;overflow-x:auto;line-height:normal;font-family:Menlo,'DejaVu Sans Mono',consolas,'Courier New',monospace\">┏━━━━━━━━━━━━━━━━━━━━━━━━━━━━━━━━━┳━━━━━━━━━━━━━━━━━━━━━━━━┳━━━━━━━━━━━━━━━┓\n",
       "┃<span style=\"font-weight: bold\"> Layer (type)                    </span>┃<span style=\"font-weight: bold\"> Output Shape           </span>┃<span style=\"font-weight: bold\">       Param # </span>┃\n",
       "┡━━━━━━━━━━━━━━━━━━━━━━━━━━━━━━━━━╇━━━━━━━━━━━━━━━━━━━━━━━━╇━━━━━━━━━━━━━━━┩\n",
       "│ conv2d (<span style=\"color: #0087ff; text-decoration-color: #0087ff\">Conv2D</span>)                 │ (<span style=\"color: #00d7ff; text-decoration-color: #00d7ff\">None</span>, <span style=\"color: #00af00; text-decoration-color: #00af00\">29</span>, <span style=\"color: #00af00; text-decoration-color: #00af00\">29</span>, <span style=\"color: #00af00; text-decoration-color: #00af00\">32</span>)     │         <span style=\"color: #00af00; text-decoration-color: #00af00\">1,568</span> │\n",
       "├─────────────────────────────────┼────────────────────────┼───────────────┤\n",
       "│ max_pooling2d (<span style=\"color: #0087ff; text-decoration-color: #0087ff\">MaxPooling2D</span>)    │ (<span style=\"color: #00d7ff; text-decoration-color: #00d7ff\">None</span>, <span style=\"color: #00af00; text-decoration-color: #00af00\">14</span>, <span style=\"color: #00af00; text-decoration-color: #00af00\">14</span>, <span style=\"color: #00af00; text-decoration-color: #00af00\">32</span>)     │             <span style=\"color: #00af00; text-decoration-color: #00af00\">0</span> │\n",
       "├─────────────────────────────────┼────────────────────────┼───────────────┤\n",
       "│ conv2d_1 (<span style=\"color: #0087ff; text-decoration-color: #0087ff\">Conv2D</span>)               │ (<span style=\"color: #00d7ff; text-decoration-color: #00d7ff\">None</span>, <span style=\"color: #00af00; text-decoration-color: #00af00\">11</span>, <span style=\"color: #00af00; text-decoration-color: #00af00\">11</span>, <span style=\"color: #00af00; text-decoration-color: #00af00\">32</span>)     │        <span style=\"color: #00af00; text-decoration-color: #00af00\">16,416</span> │\n",
       "├─────────────────────────────────┼────────────────────────┼───────────────┤\n",
       "│ max_pooling2d_1 (<span style=\"color: #0087ff; text-decoration-color: #0087ff\">MaxPooling2D</span>)  │ (<span style=\"color: #00d7ff; text-decoration-color: #00d7ff\">None</span>, <span style=\"color: #00af00; text-decoration-color: #00af00\">5</span>, <span style=\"color: #00af00; text-decoration-color: #00af00\">5</span>, <span style=\"color: #00af00; text-decoration-color: #00af00\">32</span>)       │             <span style=\"color: #00af00; text-decoration-color: #00af00\">0</span> │\n",
       "├─────────────────────────────────┼────────────────────────┼───────────────┤\n",
       "│ flatten (<span style=\"color: #0087ff; text-decoration-color: #0087ff\">Flatten</span>)               │ (<span style=\"color: #00d7ff; text-decoration-color: #00d7ff\">None</span>, <span style=\"color: #00af00; text-decoration-color: #00af00\">800</span>)            │             <span style=\"color: #00af00; text-decoration-color: #00af00\">0</span> │\n",
       "├─────────────────────────────────┼────────────────────────┼───────────────┤\n",
       "│ dense (<span style=\"color: #0087ff; text-decoration-color: #0087ff\">Dense</span>)                   │ (<span style=\"color: #00d7ff; text-decoration-color: #00d7ff\">None</span>, <span style=\"color: #00af00; text-decoration-color: #00af00\">256</span>)            │       <span style=\"color: #00af00; text-decoration-color: #00af00\">205,056</span> │\n",
       "├─────────────────────────────────┼────────────────────────┼───────────────┤\n",
       "│ dense_1 (<span style=\"color: #0087ff; text-decoration-color: #0087ff\">Dense</span>)                 │ (<span style=\"color: #00d7ff; text-decoration-color: #00d7ff\">None</span>, <span style=\"color: #00af00; text-decoration-color: #00af00\">10</span>)             │         <span style=\"color: #00af00; text-decoration-color: #00af00\">2,570</span> │\n",
       "└─────────────────────────────────┴────────────────────────┴───────────────┘\n",
       "</pre>\n"
      ],
      "text/plain": [
       "┏━━━━━━━━━━━━━━━━━━━━━━━━━━━━━━━━━┳━━━━━━━━━━━━━━━━━━━━━━━━┳━━━━━━━━━━━━━━━┓\n",
       "┃\u001b[1m \u001b[0m\u001b[1mLayer (type)                   \u001b[0m\u001b[1m \u001b[0m┃\u001b[1m \u001b[0m\u001b[1mOutput Shape          \u001b[0m\u001b[1m \u001b[0m┃\u001b[1m \u001b[0m\u001b[1m      Param #\u001b[0m\u001b[1m \u001b[0m┃\n",
       "┡━━━━━━━━━━━━━━━━━━━━━━━━━━━━━━━━━╇━━━━━━━━━━━━━━━━━━━━━━━━╇━━━━━━━━━━━━━━━┩\n",
       "│ conv2d (\u001b[38;5;33mConv2D\u001b[0m)                 │ (\u001b[38;5;45mNone\u001b[0m, \u001b[38;5;34m29\u001b[0m, \u001b[38;5;34m29\u001b[0m, \u001b[38;5;34m32\u001b[0m)     │         \u001b[38;5;34m1,568\u001b[0m │\n",
       "├─────────────────────────────────┼────────────────────────┼───────────────┤\n",
       "│ max_pooling2d (\u001b[38;5;33mMaxPooling2D\u001b[0m)    │ (\u001b[38;5;45mNone\u001b[0m, \u001b[38;5;34m14\u001b[0m, \u001b[38;5;34m14\u001b[0m, \u001b[38;5;34m32\u001b[0m)     │             \u001b[38;5;34m0\u001b[0m │\n",
       "├─────────────────────────────────┼────────────────────────┼───────────────┤\n",
       "│ conv2d_1 (\u001b[38;5;33mConv2D\u001b[0m)               │ (\u001b[38;5;45mNone\u001b[0m, \u001b[38;5;34m11\u001b[0m, \u001b[38;5;34m11\u001b[0m, \u001b[38;5;34m32\u001b[0m)     │        \u001b[38;5;34m16,416\u001b[0m │\n",
       "├─────────────────────────────────┼────────────────────────┼───────────────┤\n",
       "│ max_pooling2d_1 (\u001b[38;5;33mMaxPooling2D\u001b[0m)  │ (\u001b[38;5;45mNone\u001b[0m, \u001b[38;5;34m5\u001b[0m, \u001b[38;5;34m5\u001b[0m, \u001b[38;5;34m32\u001b[0m)       │             \u001b[38;5;34m0\u001b[0m │\n",
       "├─────────────────────────────────┼────────────────────────┼───────────────┤\n",
       "│ flatten (\u001b[38;5;33mFlatten\u001b[0m)               │ (\u001b[38;5;45mNone\u001b[0m, \u001b[38;5;34m800\u001b[0m)            │             \u001b[38;5;34m0\u001b[0m │\n",
       "├─────────────────────────────────┼────────────────────────┼───────────────┤\n",
       "│ dense (\u001b[38;5;33mDense\u001b[0m)                   │ (\u001b[38;5;45mNone\u001b[0m, \u001b[38;5;34m256\u001b[0m)            │       \u001b[38;5;34m205,056\u001b[0m │\n",
       "├─────────────────────────────────┼────────────────────────┼───────────────┤\n",
       "│ dense_1 (\u001b[38;5;33mDense\u001b[0m)                 │ (\u001b[38;5;45mNone\u001b[0m, \u001b[38;5;34m10\u001b[0m)             │         \u001b[38;5;34m2,570\u001b[0m │\n",
       "└─────────────────────────────────┴────────────────────────┴───────────────┘\n"
      ]
     },
     "metadata": {},
     "output_type": "display_data"
    },
    {
     "data": {
      "text/html": [
       "<pre style=\"white-space:pre;overflow-x:auto;line-height:normal;font-family:Menlo,'DejaVu Sans Mono',consolas,'Courier New',monospace\"><span style=\"font-weight: bold\"> Total params: </span><span style=\"color: #00af00; text-decoration-color: #00af00\">225,610</span> (881.29 KB)\n",
       "</pre>\n"
      ],
      "text/plain": [
       "\u001b[1m Total params: \u001b[0m\u001b[38;5;34m225,610\u001b[0m (881.29 KB)\n"
      ]
     },
     "metadata": {},
     "output_type": "display_data"
    },
    {
     "data": {
      "text/html": [
       "<pre style=\"white-space:pre;overflow-x:auto;line-height:normal;font-family:Menlo,'DejaVu Sans Mono',consolas,'Courier New',monospace\"><span style=\"font-weight: bold\"> Trainable params: </span><span style=\"color: #00af00; text-decoration-color: #00af00\">225,610</span> (881.29 KB)\n",
       "</pre>\n"
      ],
      "text/plain": [
       "\u001b[1m Trainable params: \u001b[0m\u001b[38;5;34m225,610\u001b[0m (881.29 KB)\n"
      ]
     },
     "metadata": {},
     "output_type": "display_data"
    },
    {
     "data": {
      "text/html": [
       "<pre style=\"white-space:pre;overflow-x:auto;line-height:normal;font-family:Menlo,'DejaVu Sans Mono',consolas,'Courier New',monospace\"><span style=\"font-weight: bold\"> Non-trainable params: </span><span style=\"color: #00af00; text-decoration-color: #00af00\">0</span> (0.00 B)\n",
       "</pre>\n"
      ],
      "text/plain": [
       "\u001b[1m Non-trainable params: \u001b[0m\u001b[38;5;34m0\u001b[0m (0.00 B)\n"
      ]
     },
     "metadata": {},
     "output_type": "display_data"
    }
   ],
   "source": [
    "# Model Summary\n",
    "model.summary()"
   ]
  },
  {
   "cell_type": "markdown",
   "id": "7e1d9b1f-350c-4e6f-9a90-522dd97fdae1",
   "metadata": {},
   "source": [
    "### 4. Train the Model"
   ]
  },
  {
   "cell_type": "code",
   "execution_count": 24,
   "id": "12e816de-e2e9-4e1c-ace9-2d7cc2294143",
   "metadata": {},
   "outputs": [],
   "source": [
    "# Train the model with Early Stopping\n",
    "from tensorflow.keras.callbacks import EarlyStopping"
   ]
  },
  {
   "cell_type": "code",
   "execution_count": 25,
   "id": "b2781a4d-24bd-4817-a79e-310e810a046b",
   "metadata": {},
   "outputs": [],
   "source": [
    "early_stop = EarlyStopping(monitor='val_loss', patience=1)"
   ]
  },
  {
   "cell_type": "code",
   "execution_count": 26,
   "id": "04aa96bc-9dbe-4c87-b310-714892bb29df",
   "metadata": {},
   "outputs": [
    {
     "name": "stdout",
     "output_type": "stream",
     "text": [
      "Epoch 1/10\n",
      "\u001b[1m1563/1563\u001b[0m \u001b[32m━━━━━━━━━━━━━━━━━━━━\u001b[0m\u001b[37m\u001b[0m \u001b[1m10s\u001b[0m 6ms/step - accuracy: 0.3720 - loss: 1.7000 - val_accuracy: 0.5571 - val_loss: 1.2464\n",
      "Epoch 2/10\n",
      "\u001b[1m1563/1563\u001b[0m \u001b[32m━━━━━━━━━━━━━━━━━━━━\u001b[0m\u001b[37m\u001b[0m \u001b[1m10s\u001b[0m 6ms/step - accuracy: 0.5783 - loss: 1.2030 - val_accuracy: 0.6098 - val_loss: 1.0996\n",
      "Epoch 3/10\n",
      "\u001b[1m1563/1563\u001b[0m \u001b[32m━━━━━━━━━━━━━━━━━━━━\u001b[0m\u001b[37m\u001b[0m \u001b[1m11s\u001b[0m 7ms/step - accuracy: 0.6524 - loss: 0.9957 - val_accuracy: 0.6529 - val_loss: 0.9903\n",
      "Epoch 4/10\n",
      "\u001b[1m1563/1563\u001b[0m \u001b[32m━━━━━━━━━━━━━━━━━━━━\u001b[0m\u001b[37m\u001b[0m \u001b[1m11s\u001b[0m 7ms/step - accuracy: 0.6891 - loss: 0.8915 - val_accuracy: 0.6645 - val_loss: 0.9477\n",
      "Epoch 5/10\n",
      "\u001b[1m1563/1563\u001b[0m \u001b[32m━━━━━━━━━━━━━━━━━━━━\u001b[0m\u001b[37m\u001b[0m \u001b[1m11s\u001b[0m 7ms/step - accuracy: 0.7244 - loss: 0.7834 - val_accuracy: 0.6752 - val_loss: 0.9502\n"
     ]
    },
    {
     "data": {
      "text/plain": [
       "<keras.src.callbacks.history.History at 0x168423880>"
      ]
     },
     "execution_count": 26,
     "metadata": {},
     "output_type": "execute_result"
    }
   ],
   "source": [
    "# Train the model\n",
    "model.fit(X_train, y_train_cat, epochs=10, validation_data=(X_test,y_test_cat), callbacks=[early_stop])"
   ]
  },
  {
   "cell_type": "markdown",
   "id": "d69d1d8b-ea1a-47b5-8c73-0a087e88b3de",
   "metadata": {},
   "source": [
    "### 5. Evaluate the Model"
   ]
  },
  {
   "cell_type": "code",
   "execution_count": 27,
   "id": "29210ff6-2705-40df-a7e9-12a2a8ae880b",
   "metadata": {},
   "outputs": [
    {
     "data": {
      "text/html": [
       "<div>\n",
       "<style scoped>\n",
       "    .dataframe tbody tr th:only-of-type {\n",
       "        vertical-align: middle;\n",
       "    }\n",
       "\n",
       "    .dataframe tbody tr th {\n",
       "        vertical-align: top;\n",
       "    }\n",
       "\n",
       "    .dataframe thead th {\n",
       "        text-align: right;\n",
       "    }\n",
       "</style>\n",
       "<table border=\"1\" class=\"dataframe\">\n",
       "  <thead>\n",
       "    <tr style=\"text-align: right;\">\n",
       "      <th></th>\n",
       "      <th>accuracy</th>\n",
       "      <th>loss</th>\n",
       "      <th>val_accuracy</th>\n",
       "      <th>val_loss</th>\n",
       "    </tr>\n",
       "  </thead>\n",
       "  <tbody>\n",
       "    <tr>\n",
       "      <th>0</th>\n",
       "      <td>0.45680</td>\n",
       "      <td>1.496074</td>\n",
       "      <td>0.5571</td>\n",
       "      <td>1.246428</td>\n",
       "    </tr>\n",
       "    <tr>\n",
       "      <th>1</th>\n",
       "      <td>0.59356</td>\n",
       "      <td>1.157182</td>\n",
       "      <td>0.6098</td>\n",
       "      <td>1.099604</td>\n",
       "    </tr>\n",
       "    <tr>\n",
       "      <th>2</th>\n",
       "      <td>0.65436</td>\n",
       "      <td>0.990567</td>\n",
       "      <td>0.6529</td>\n",
       "      <td>0.990261</td>\n",
       "    </tr>\n",
       "    <tr>\n",
       "      <th>3</th>\n",
       "      <td>0.69186</td>\n",
       "      <td>0.882902</td>\n",
       "      <td>0.6645</td>\n",
       "      <td>0.947666</td>\n",
       "    </tr>\n",
       "    <tr>\n",
       "      <th>4</th>\n",
       "      <td>0.72278</td>\n",
       "      <td>0.790694</td>\n",
       "      <td>0.6752</td>\n",
       "      <td>0.950214</td>\n",
       "    </tr>\n",
       "  </tbody>\n",
       "</table>\n",
       "</div>"
      ],
      "text/plain": [
       "   accuracy      loss  val_accuracy  val_loss\n",
       "0   0.45680  1.496074        0.5571  1.246428\n",
       "1   0.59356  1.157182        0.6098  1.099604\n",
       "2   0.65436  0.990567        0.6529  0.990261\n",
       "3   0.69186  0.882902        0.6645  0.947666\n",
       "4   0.72278  0.790694        0.6752  0.950214"
      ]
     },
     "execution_count": 27,
     "metadata": {},
     "output_type": "execute_result"
    }
   ],
   "source": [
    "# Plot the accuracy because we used accuracy metric while compiling the model\n",
    "metrics = pd.DataFrame(model.history.history)\n",
    "metrics"
   ]
  },
  {
   "cell_type": "code",
   "execution_count": 28,
   "id": "dfaacb3a-4c5d-4394-a2ae-99a85a5e1479",
   "metadata": {},
   "outputs": [
    {
     "data": {
      "text/plain": [
       "<Axes: >"
      ]
     },
     "execution_count": 28,
     "metadata": {},
     "output_type": "execute_result"
    },
    {
     "data": {
      "image/png": "[encoded data removed]",
      "text/plain": [
       "<Figure size 640x480 with 1 Axes>"
      ]
     },
     "metadata": {},
     "output_type": "display_data"
    }
   ],
   "source": [
    "# Plot loss\n",
    "metrics[['loss', 'val_loss']].plot()"
   ]
  },
  {
   "cell_type": "code",
   "execution_count": 29,
   "id": "d0f01e47-d70c-46bd-bd99-0740a25851c3",
   "metadata": {},
   "outputs": [
    {
     "data": {
      "text/plain": [
       "<Axes: >"
      ]
     },
     "execution_count": 29,
     "metadata": {},
     "output_type": "execute_result"
    },
    {
     "data": {
      "image/png": "[encoded data removed]",
      "text/plain": [
       "<Figure size 640x480 with 1 Axes>"
      ]
     },
     "metadata": {},
     "output_type": "display_data"
    }
   ],
   "source": [
    "# Plot accuracy\n",
    "metrics[['accuracy', 'val_accuracy']].plot()"
   ]
  },
  {
   "cell_type": "markdown",
   "id": "5d44d2b8-18f1-4df7-beda-b6fe2157ade0",
   "metadata": {},
   "source": [
    "#### Classification report"
   ]
  },
  {
   "cell_type": "code",
   "execution_count": 30,
   "id": "00e93bc7-86d1-43c0-bbe0-9acbff8456a4",
   "metadata": {},
   "outputs": [],
   "source": [
    "from sklearn.metrics import classification_report, confusion_matrix"
   ]
  },
  {
   "cell_type": "code",
   "execution_count": 31,
   "id": "882ce62a-6fe6-4155-b0df-4b1b30381f19",
   "metadata": {},
   "outputs": [
    {
     "name": "stdout",
     "output_type": "stream",
     "text": [
      "\u001b[1m313/313\u001b[0m \u001b[32m━━━━━━━━━━━━━━━━━━━━\u001b[0m\u001b[37m\u001b[0m \u001b[1m1s\u001b[0m 2ms/step \n"
     ]
    }
   ],
   "source": [
    "# Get the Classifications on test data\n",
    "y_pred = model.predict(X_test)"
   ]
  },
  {
   "cell_type": "code",
   "execution_count": 32,
   "id": "f680d632-6960-4b70-ac24-d77311d6db64",
   "metadata": {},
   "outputs": [],
   "source": [
    "# y_test is one-hot encoded, convert it to class labels too\n",
    "y_pred = np.argmax(y_pred, axis=1)"
   ]
  },
  {
   "cell_type": "code",
   "execution_count": 33,
   "id": "86a08a36-0801-45ed-ae11-cf4ca1a51d15",
   "metadata": {},
   "outputs": [
    {
     "name": "stdout",
     "output_type": "stream",
     "text": [
      "              precision    recall  f1-score   support\n",
      "\n",
      "           0       0.71      0.76      0.73      1000\n",
      "           1       0.82      0.77      0.79      1000\n",
      "           2       0.63      0.52      0.57      1000\n",
      "           3       0.48      0.54      0.51      1000\n",
      "           4       0.56      0.67      0.61      1000\n",
      "           5       0.61      0.52      0.56      1000\n",
      "           6       0.80      0.69      0.74      1000\n",
      "           7       0.66      0.78      0.71      1000\n",
      "           8       0.77      0.78      0.78      1000\n",
      "           9       0.78      0.73      0.76      1000\n",
      "\n",
      "    accuracy                           0.68     10000\n",
      "   macro avg       0.68      0.68      0.68     10000\n",
      "weighted avg       0.68      0.68      0.68     10000\n",
      "\n"
     ]
    }
   ],
   "source": [
    "# Classification Report\n",
    "print(classification_report(y_test,y_pred))"
   ]
  },
  {
   "cell_type": "code",
   "execution_count": 34,
   "id": "a127f348-8978-4114-9046-5b931369bbd5",
   "metadata": {},
   "outputs": [
    {
     "name": "stdout",
     "output_type": "stream",
     "text": [
      "[[756  21  32  33  26   7   7  22  68  28]\n",
      " [ 27 767  10  15   9   7   9  10  41 105]\n",
      " [ 82   6 521  76 132  65  46  55   9   8]\n",
      " [ 27  13  57 540  93 129  52  63  18   8]\n",
      " [ 19   3  53  56 671  41  25 112  18   2]\n",
      " [ 15   6  50 227  74 518  19  74  12   5]\n",
      " [  9   7  47  88  92  28 685  25  13   6]\n",
      " [ 16   2  25  49  64  41   6 778   5  14]\n",
      " [ 97  23  11  20  16   7   1  10 784  31]\n",
      " [ 24  90  15  26  13   6   9  36  49 732]]\n"
     ]
    }
   ],
   "source": [
    "# Confusion Matrix\n",
    "print(confusion_matrix(y_test,y_pred))"
   ]
  },
  {
   "cell_type": "markdown",
   "id": "a2324dee-7858-43e6-b01b-40f3704f9c8c",
   "metadata": {},
   "source": [
    "#### Classiying the new image"
   ]
  },
  {
   "cell_type": "code",
   "execution_count": 35,
   "id": "45e31ac3-6213-461e-bd76-30d29ccc0e02",
   "metadata": {},
   "outputs": [],
   "source": [
    "from tensorflow.keras.preprocessing import image\n",
    "from PIL import Image\n",
    "\n",
    "# RGB Image\n",
    "new_image = Image.open('horse.png').convert('RGB')"
   ]
  },
  {
   "cell_type": "code",
   "execution_count": 36,
   "id": "b69e081d-8c59-4a50-8635-19a9130cd3af",
   "metadata": {},
   "outputs": [],
   "source": [
    "# Resize to 28x28\n",
    "new_image = new_image.resize((32, 32))                  "
   ]
  },
  {
   "cell_type": "code",
   "execution_count": 37,
   "id": "346e6180-c401-4572-8052-0c967582a4bf",
   "metadata": {},
   "outputs": [
    {
     "data": {
      "image/jpeg": "[encoded data removed]",
      "image/png": "[encoded data removed]",
      "text/plain": [
       "<PIL.Image.Image image mode=RGB size=32x32>"
      ]
     },
     "execution_count": 37,
     "metadata": {},
     "output_type": "execute_result"
    }
   ],
   "source": [
    "new_image"
   ]
  },
  {
   "cell_type": "code",
   "execution_count": 38,
   "id": "d281b9b2-6b7c-4e57-ac8b-a926f0740a1f",
   "metadata": {},
   "outputs": [],
   "source": [
    "# Convert to NumPy array and normalize\n",
    "img_array = np.array(new_image)\n",
    "img_array = img_array / 255.0 "
   ]
  },
  {
   "cell_type": "code",
   "execution_count": 39,
   "id": "f07c7c7d-b45f-4403-8d8b-8e18c2f97f85",
   "metadata": {},
   "outputs": [
    {
     "data": {
      "text/plain": [
       "<matplotlib.image.AxesImage at 0x16a930a30>"
      ]
     },
     "execution_count": 39,
     "metadata": {},
     "output_type": "execute_result"
    },
    {
     "data": {
      "image/png": "[encoded data removed]",
      "text/plain": [
       "<Figure size 640x480 with 1 Axes>"
      ]
     },
     "metadata": {},
     "output_type": "display_data"
    }
   ],
   "source": [
    "plt.imshow(img_array)"
   ]
  },
  {
   "cell_type": "code",
   "execution_count": 40,
   "id": "d9443971-86d8-4874-a2ea-1032a4451307",
   "metadata": {},
   "outputs": [],
   "source": [
    "# Reshape to match input shape of model: (1, 32, 32, 3)\n",
    "img_array = img_array.reshape(1, 32, 32, 3)"
   ]
  },
  {
   "cell_type": "code",
   "execution_count": 41,
   "id": "0081b481-8a8e-4d98-9409-b8fb2234a36c",
   "metadata": {},
   "outputs": [
    {
     "name": "stdout",
     "output_type": "stream",
     "text": [
      "\u001b[1m1/1\u001b[0m \u001b[32m━━━━━━━━━━━━━━━━━━━━\u001b[0m\u001b[37m\u001b[0m \u001b[1m0s\u001b[0m 11ms/step\n"
     ]
    }
   ],
   "source": [
    "pred = model.predict(img_array)"
   ]
  },
  {
   "cell_type": "code",
   "execution_count": 42,
   "id": "c16c8b54-6f9e-44cf-a7c7-ad9df0544fa6",
   "metadata": {},
   "outputs": [
    {
     "data": {
      "text/plain": [
       "array([7])"
      ]
     },
     "execution_count": 42,
     "metadata": {},
     "output_type": "execute_result"
    }
   ],
   "source": [
    "np.argmax(pred, axis=1)\n",
    "# Index 7 belongs to horse"
   ]
  },
  {
   "cell_type": "markdown",
   "id": "61f538c1-f946-457e-93fc-445487700c26",
   "metadata": {},
   "source": [
    "#### RESULT:\n",
    "A Convolutional Neural Network (CNN) was successfully implemented to classify the CIFAR-10 dataset. The model demonstrated average performance in recognizing various object classes in color images, achieving an accuracy of 68%."
   ]
  }
 ],
 "metadata": {
  "kernelspec": {
   "display_name": "Python 3 (ipykernel)",
   "language": "python",
   "name": "python3"
  },
  "language_info": {
   "codemirror_mode": {
    "name": "ipython",
    "version": 3
   },
   "file_extension": ".py",
   "mimetype": "text/x-python",
   "name": "python",
   "nbconvert_exporter": "python",
   "pygments_lexer": "ipython3",
   "version": "3.9.6"
  }
 },
 "nbformat": 4,
 "nbformat_minor": 5
}
