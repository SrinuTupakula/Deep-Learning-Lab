{
 "cells": [
  {
   "cell_type": "markdown",
   "id": "0f5133f9-0d25-41cc-a3f2-881282adbe56",
   "metadata": {},
   "source": [
    "<center><h4>EXPERIMENT 4</h4></center>"
   ]
  },
  {
   "cell_type": "markdown",
   "id": "16710783-a1d7-472e-a0b6-d7ea3e70ea7c",
   "metadata": {},
   "source": [
    "<center><h4>SENTIMENT ANALYSIS ON IMDB DATASET USING BI-DIRECTIONAL LSTM</h4></center>"
   ]
  },
  {
   "cell_type": "markdown",
   "id": "6e23fdd5-e3ba-4669-ab7f-08be4203a399",
   "metadata": {},
   "source": [
    "#### AIM:\n",
    "To implement and evaluate a Bi-directional LSTM model for sentiment classification using the IMDB movie review dataset. The model will learn to classify reviews as positive or negative."
   ]
  },
  {
   "cell_type": "markdown",
   "id": "a248d052-0b8c-47c2-b663-85cdd47f303f",
   "metadata": {},
   "source": [
    "#### PRE-REQUISITES:\n",
    "1. Basics of Machine Learning\n",
    "2. Python Programming\n",
    "3. Knowledge on Numpy, Pandas, Matplotlib, TensorFlow/ Keras\n",
    "4. Jupyter Notebook\n",
    "5. Data Pre-Processing Techniques\n",
    "6. Knowledge on Neural Networks"
   ]
  },
  {
   "cell_type": "markdown",
   "id": "14529670-38ac-4524-ac28-737be1332115",
   "metadata": {},
   "source": [
    "#### IMDB Dataset"
   ]
  },
  {
   "cell_type": "markdown",
   "id": "1c065bff-14f3-4da0-89b8-84d25c0bed88",
   "metadata": {},
   "source": [
    "- IMDB Dataset consists of 50,000 movie reviews along with sentiment labels (positive or negative).\n",
    "- Popular for natural language processing (NLP) tasks like sentiment analysis, text classification.\n",
    "- It is a balanced Dataset with 25000 Positive & 25000 Negative Reviews.\n",
    "- Download the Dataset - https://www.kaggle.com/datasets/lakshmi25npathi/imdb-dataset-of-50k-movie-reviews"
   ]
  },
  {
   "cell_type": "markdown",
   "id": "02602361-8fc2-4159-9967-74042b59bfde",
   "metadata": {},
   "source": [
    "### 1. Importing the Basic Libraries"
   ]
  },
  {
   "cell_type": "code",
   "execution_count": 33,
   "id": "a80513c1-9461-454b-8ac3-c44eaae751b6",
   "metadata": {},
   "outputs": [],
   "source": [
    "import numpy as np                 \n",
    "import pandas as pd                \n",
    "import matplotlib.pyplot as plt    \n",
    "import seaborn as sns"
   ]
  },
  {
   "cell_type": "markdown",
   "id": "de315551-6cb8-41ae-9dad-115e6facfb07",
   "metadata": {},
   "source": [
    "### 2. Load the Dataset"
   ]
  },
  {
   "cell_type": "code",
   "execution_count": 34,
   "id": "7c384740-183b-42dd-b3ca-862e97c66ca5",
   "metadata": {},
   "outputs": [
    {
     "data": {
      "text/html": [
       "<div>\n",
       "<style scoped>\n",
       "    .dataframe tbody tr th:only-of-type {\n",
       "        vertical-align: middle;\n",
       "    }\n",
       "\n",
       "    .dataframe tbody tr th {\n",
       "        vertical-align: top;\n",
       "    }\n",
       "\n",
       "    .dataframe thead th {\n",
       "        text-align: right;\n",
       "    }\n",
       "</style>\n",
       "<table border=\"1\" class=\"dataframe\">\n",
       "  <thead>\n",
       "    <tr style=\"text-align: right;\">\n",
       "      <th></th>\n",
       "      <th>review</th>\n",
       "      <th>sentiment</th>\n",
       "    </tr>\n",
       "  </thead>\n",
       "  <tbody>\n",
       "    <tr>\n",
       "      <th>0</th>\n",
       "      <td>One of the other reviewers has mentioned that ...</td>\n",
       "      <td>positive</td>\n",
       "    </tr>\n",
       "    <tr>\n",
       "      <th>1</th>\n",
       "      <td>A wonderful little production. &lt;br /&gt;&lt;br /&gt;The...</td>\n",
       "      <td>positive</td>\n",
       "    </tr>\n",
       "    <tr>\n",
       "      <th>2</th>\n",
       "      <td>I thought this was a wonderful way to spend ti...</td>\n",
       "      <td>positive</td>\n",
       "    </tr>\n",
       "    <tr>\n",
       "      <th>3</th>\n",
       "      <td>Basically there's a family where a little boy ...</td>\n",
       "      <td>negative</td>\n",
       "    </tr>\n",
       "    <tr>\n",
       "      <th>4</th>\n",
       "      <td>Petter Mattei's \"Love in the Time of Money\" is...</td>\n",
       "      <td>positive</td>\n",
       "    </tr>\n",
       "  </tbody>\n",
       "</table>\n",
       "</div>"
      ],
      "text/plain": [
       "                                              review sentiment\n",
       "0  One of the other reviewers has mentioned that ...  positive\n",
       "1  A wonderful little production. <br /><br />The...  positive\n",
       "2  I thought this was a wonderful way to spend ti...  positive\n",
       "3  Basically there's a family where a little boy ...  negative\n",
       "4  Petter Mattei's \"Love in the Time of Money\" is...  positive"
      ]
     },
     "execution_count": 34,
     "metadata": {},
     "output_type": "execute_result"
    }
   ],
   "source": [
    "df = pd.read_csv('IMDB Dataset.csv')\n",
    "df.head()"
   ]
  },
  {
   "cell_type": "code",
   "execution_count": 35,
   "id": "d650244b-0483-4254-8e13-55183931e93f",
   "metadata": {},
   "outputs": [],
   "source": [
    "# Clean the HTML tags in the Dataset\n",
    "import re\n",
    "\n",
    "df['review'] = df['review'].apply(lambda x: re.sub(r'<.*?>', '', x))\n",
    "\n",
    "# Strip extra spaces also\n",
    "df['review'] = df['review'].str.strip()"
   ]
  },
  {
   "cell_type": "code",
   "execution_count": 36,
   "id": "6e68a30f-6c1c-46d2-a427-ee97adee84ad",
   "metadata": {},
   "outputs": [
    {
     "data": {
      "text/html": [
       "<div>\n",
       "<style scoped>\n",
       "    .dataframe tbody tr th:only-of-type {\n",
       "        vertical-align: middle;\n",
       "    }\n",
       "\n",
       "    .dataframe tbody tr th {\n",
       "        vertical-align: top;\n",
       "    }\n",
       "\n",
       "    .dataframe thead th {\n",
       "        text-align: right;\n",
       "    }\n",
       "</style>\n",
       "<table border=\"1\" class=\"dataframe\">\n",
       "  <thead>\n",
       "    <tr style=\"text-align: right;\">\n",
       "      <th></th>\n",
       "      <th>review</th>\n",
       "      <th>sentiment</th>\n",
       "    </tr>\n",
       "  </thead>\n",
       "  <tbody>\n",
       "    <tr>\n",
       "      <th>0</th>\n",
       "      <td>One of the other reviewers has mentioned that ...</td>\n",
       "      <td>positive</td>\n",
       "    </tr>\n",
       "    <tr>\n",
       "      <th>1</th>\n",
       "      <td>A wonderful little production. The filming tec...</td>\n",
       "      <td>positive</td>\n",
       "    </tr>\n",
       "    <tr>\n",
       "      <th>2</th>\n",
       "      <td>I thought this was a wonderful way to spend ti...</td>\n",
       "      <td>positive</td>\n",
       "    </tr>\n",
       "    <tr>\n",
       "      <th>3</th>\n",
       "      <td>Basically there's a family where a little boy ...</td>\n",
       "      <td>negative</td>\n",
       "    </tr>\n",
       "    <tr>\n",
       "      <th>4</th>\n",
       "      <td>Petter Mattei's \"Love in the Time of Money\" is...</td>\n",
       "      <td>positive</td>\n",
       "    </tr>\n",
       "  </tbody>\n",
       "</table>\n",
       "</div>"
      ],
      "text/plain": [
       "                                              review sentiment\n",
       "0  One of the other reviewers has mentioned that ...  positive\n",
       "1  A wonderful little production. The filming tec...  positive\n",
       "2  I thought this was a wonderful way to spend ti...  positive\n",
       "3  Basically there's a family where a little boy ...  negative\n",
       "4  Petter Mattei's \"Love in the Time of Money\" is...  positive"
      ]
     },
     "execution_count": 36,
     "metadata": {},
     "output_type": "execute_result"
    }
   ],
   "source": [
    "df.head()"
   ]
  },
  {
   "cell_type": "markdown",
   "id": "35e71a99-19d9-428f-917b-efcc5d99508d",
   "metadata": {},
   "source": [
    "### 3. Pre-Process the Dataset "
   ]
  },
  {
   "cell_type": "code",
   "execution_count": 37,
   "id": "73262806-7417-47c4-bb21-432b2bb47985",
   "metadata": {},
   "outputs": [],
   "source": [
    "# Import the Required Libraries\n",
    "\n",
    "from sklearn.model_selection import train_test_split\n",
    "from tensorflow.keras.preprocessing.text import Tokenizer\n",
    "from tensorflow.keras.preprocessing.sequence import pad_sequences"
   ]
  },
  {
   "cell_type": "markdown",
   "id": "6ff8a455-daff-4535-b9f3-1e3143e0d4df",
   "metadata": {},
   "source": [
    "#### a) Convert labels to binary (positive=1, negative=0)"
   ]
  },
  {
   "cell_type": "code",
   "execution_count": 38,
   "id": "7fd0fa40-8b9f-4197-8ef4-f19f4895c4fc",
   "metadata": {},
   "outputs": [
    {
     "data": {
      "text/html": [
       "<div>\n",
       "<style scoped>\n",
       "    .dataframe tbody tr th:only-of-type {\n",
       "        vertical-align: middle;\n",
       "    }\n",
       "\n",
       "    .dataframe tbody tr th {\n",
       "        vertical-align: top;\n",
       "    }\n",
       "\n",
       "    .dataframe thead th {\n",
       "        text-align: right;\n",
       "    }\n",
       "</style>\n",
       "<table border=\"1\" class=\"dataframe\">\n",
       "  <thead>\n",
       "    <tr style=\"text-align: right;\">\n",
       "      <th></th>\n",
       "      <th>review</th>\n",
       "      <th>sentiment</th>\n",
       "    </tr>\n",
       "  </thead>\n",
       "  <tbody>\n",
       "    <tr>\n",
       "      <th>0</th>\n",
       "      <td>One of the other reviewers has mentioned that ...</td>\n",
       "      <td>1</td>\n",
       "    </tr>\n",
       "    <tr>\n",
       "      <th>1</th>\n",
       "      <td>A wonderful little production. The filming tec...</td>\n",
       "      <td>1</td>\n",
       "    </tr>\n",
       "    <tr>\n",
       "      <th>2</th>\n",
       "      <td>I thought this was a wonderful way to spend ti...</td>\n",
       "      <td>1</td>\n",
       "    </tr>\n",
       "    <tr>\n",
       "      <th>3</th>\n",
       "      <td>Basically there's a family where a little boy ...</td>\n",
       "      <td>0</td>\n",
       "    </tr>\n",
       "    <tr>\n",
       "      <th>4</th>\n",
       "      <td>Petter Mattei's \"Love in the Time of Money\" is...</td>\n",
       "      <td>1</td>\n",
       "    </tr>\n",
       "  </tbody>\n",
       "</table>\n",
       "</div>"
      ],
      "text/plain": [
       "                                              review  sentiment\n",
       "0  One of the other reviewers has mentioned that ...          1\n",
       "1  A wonderful little production. The filming tec...          1\n",
       "2  I thought this was a wonderful way to spend ti...          1\n",
       "3  Basically there's a family where a little boy ...          0\n",
       "4  Petter Mattei's \"Love in the Time of Money\" is...          1"
      ]
     },
     "execution_count": 38,
     "metadata": {},
     "output_type": "execute_result"
    }
   ],
   "source": [
    "df['sentiment'] = df['sentiment'].map({'positive': 1, 'negative': 0})\n",
    "df.head()"
   ]
  },
  {
   "cell_type": "markdown",
   "id": "9c0b6ede-f9bd-4868-927a-7b1a87c366e4",
   "metadata": {},
   "source": [
    "#### b) Split the Dataset into Training & Testing Sets"
   ]
  },
  {
   "cell_type": "code",
   "execution_count": 39,
   "id": "9a3da874-557b-492f-9cd1-64997db6c095",
   "metadata": {},
   "outputs": [
    {
     "data": {
      "text/plain": [
       "((40000,), (10000,), (40000,), (10000,))"
      ]
     },
     "execution_count": 39,
     "metadata": {},
     "output_type": "execute_result"
    }
   ],
   "source": [
    "X_train, X_test, y_train, y_test = train_test_split(df['review'], df['sentiment'], test_size=0.2, random_state=101)\n",
    "\n",
    "X_train.shape, X_test.shape, y_train.shape, y_test.shape"
   ]
  },
  {
   "cell_type": "markdown",
   "id": "70338571-bec4-4367-ad86-9f3affd9b100",
   "metadata": {},
   "source": [
    "#### c) Apply Tokenization & Generate Numerical Sequences"
   ]
  },
  {
   "cell_type": "code",
   "execution_count": 41,
   "id": "aeac4771-1d87-4082-bda2-0c4bd3aa8964",
   "metadata": {},
   "outputs": [],
   "source": [
    "tokenizer = Tokenizer(num_words=10000, oov_token=\"<OOV>\")\n",
    "tokenizer.fit_on_texts(X_train)"
   ]
  },
  {
   "cell_type": "code",
   "execution_count": 43,
   "id": "62144cb1-6919-4e92-8c56-1b5e95a0ff22",
   "metadata": {},
   "outputs": [],
   "source": [
    "# Convert text to sequences\n",
    "X_train_seq = tokenizer.texts_to_sequences(X_train)\n",
    "X_test_seq = tokenizer.texts_to_sequences(X_test)"
   ]
  },
  {
   "cell_type": "markdown",
   "id": "bbca11ce-008a-4793-8681-4b53da3bddc3",
   "metadata": {},
   "source": [
    "#### d) Apply Padding"
   ]
  },
  {
   "cell_type": "code",
   "execution_count": 44,
   "id": "b56e9865-484d-4109-a93e-b9078f11aac7",
   "metadata": {},
   "outputs": [],
   "source": [
    "maxlen = 200\n",
    "X_train_pad = pad_sequences(X_train_seq, maxlen=maxlen, padding='post')\n",
    "X_test_pad = pad_sequences(X_test_seq, maxlen=maxlen, padding='post')"
   ]
  },
  {
   "cell_type": "markdown",
   "id": "61f538c1-f946-457e-93fc-445487700c26",
   "metadata": {},
   "source": [
    "### 4. Build the Bi-directional LSTM Model"
   ]
  },
  {
   "cell_type": "code",
   "execution_count": 50,
   "id": "ed5ebe2e-5bbb-4a83-a53c-2afe59566a10",
   "metadata": {},
   "outputs": [],
   "source": [
    "# Import the required Libraries\n",
    "from tensorflow.keras.models import Sequential\n",
    "from tensorflow.keras.layers import Embedding, Bidirectional, LSTM, Dense, Dropout"
   ]
  },
  {
   "cell_type": "code",
   "execution_count": 51,
   "id": "209a3b34-108f-435a-b047-73c235a2c8a1",
   "metadata": {},
   "outputs": [],
   "source": [
    "# Creating the Model Instance\n",
    "model = Sequential()\n",
    "\n",
    "# Add the Layers\n",
    "model.add(Embedding(input_dim=10000, output_dim=128, input_length=maxlen))\n",
    "model.add(Bidirectional(LSTM(64, return_sequences=False)))\n",
    "model.add(Dropout(0.5))\n",
    "model.add(Dense(1, activation='sigmoid'))"
   ]
  },
  {
   "cell_type": "code",
   "execution_count": 53,
   "id": "db4bc7e2-5871-4dfe-946f-34bd5ebbdbc6",
   "metadata": {},
   "outputs": [],
   "source": [
    "# Compile the Model\n",
    "model.compile(loss='binary_crossentropy', optimizer='adam', metrics=['accuracy'])"
   ]
  },
  {
   "cell_type": "markdown",
   "id": "5a905d06-2672-40e1-aa7b-3495dffe1284",
   "metadata": {},
   "source": [
    "### 5. Train the Model"
   ]
  },
  {
   "cell_type": "code",
   "execution_count": 56,
   "id": "1ca4ddb7-48b3-4cb5-8615-b6b64b348769",
   "metadata": {},
   "outputs": [],
   "source": [
    "# Import and apply Early Stopping\n",
    "from tensorflow.keras.callbacks import EarlyStopping\n",
    "\n",
    "early_stop = EarlyStopping(monitor='val_loss', patience=2, restore_best_weights=True)"
   ]
  },
  {
   "cell_type": "code",
   "execution_count": 57,
   "id": "9083faf2-6dd9-432d-a158-46daed0990e2",
   "metadata": {},
   "outputs": [
    {
     "name": "stdout",
     "output_type": "stream",
     "text": [
      "Epoch 1/5\n",
      "\u001b[1m625/625\u001b[0m \u001b[32m━━━━━━━━━━━━━━━━━━━━\u001b[0m\u001b[37m\u001b[0m \u001b[1m111s\u001b[0m 176ms/step - accuracy: 0.6797 - loss: 0.5863 - val_accuracy: 0.8305 - val_loss: 0.4138\n",
      "Epoch 2/5\n",
      "\u001b[1m625/625\u001b[0m \u001b[32m━━━━━━━━━━━━━━━━━━━━\u001b[0m\u001b[37m\u001b[0m \u001b[1m86s\u001b[0m 138ms/step - accuracy: 0.8535 - loss: 0.3622 - val_accuracy: 0.8397 - val_loss: 0.4573\n",
      "Epoch 3/5\n",
      "\u001b[1m625/625\u001b[0m \u001b[32m━━━━━━━━━━━━━━━━━━━━\u001b[0m\u001b[37m\u001b[0m \u001b[1m90s\u001b[0m 143ms/step - accuracy: 0.9101 - loss: 0.2403 - val_accuracy: 0.8837 - val_loss: 0.2747\n",
      "Epoch 4/5\n",
      "\u001b[1m625/625\u001b[0m \u001b[32m━━━━━━━━━━━━━━━━━━━━\u001b[0m\u001b[37m\u001b[0m \u001b[1m87s\u001b[0m 139ms/step - accuracy: 0.9328 - loss: 0.1850 - val_accuracy: 0.8861 - val_loss: 0.2835\n",
      "Epoch 5/5\n",
      "\u001b[1m625/625\u001b[0m \u001b[32m━━━━━━━━━━━━━━━━━━━━\u001b[0m\u001b[37m\u001b[0m \u001b[1m89s\u001b[0m 142ms/step - accuracy: 0.9516 - loss: 0.1383 - val_accuracy: 0.8873 - val_loss: 0.3058\n"
     ]
    },
    {
     "data": {
      "text/plain": [
       "<keras.src.callbacks.history.History at 0x35ef38910>"
      ]
     },
     "execution_count": 57,
     "metadata": {},
     "output_type": "execute_result"
    }
   ],
   "source": [
    "# Train the Model\n",
    "\n",
    "model.fit(X_train_pad, y_train, validation_data=(X_test_pad, y_test), \n",
    "          epochs=5, batch_size=64, callbacks=[early_stop],verbose=1)"
   ]
  },
  {
   "cell_type": "markdown",
   "id": "a8ea0f92-6091-47af-9053-2e68f9eb8b73",
   "metadata": {},
   "source": [
    "### 6. Evaluate the Model Performance"
   ]
  },
  {
   "cell_type": "code",
   "execution_count": 58,
   "id": "099ea26c-7ab0-4254-aba6-4fc29836cdda",
   "metadata": {},
   "outputs": [
    {
     "name": "stdout",
     "output_type": "stream",
     "text": [
      "\u001b[1m313/313\u001b[0m \u001b[32m━━━━━━━━━━━━━━━━━━━━\u001b[0m\u001b[37m\u001b[0m \u001b[1m8s\u001b[0m 25ms/step - accuracy: 0.8852 - loss: 0.2705\n"
     ]
    }
   ],
   "source": [
    "loss, accuracy = model.evaluate(X_test_pad, y_test, verbose=1)"
   ]
  },
  {
   "cell_type": "code",
   "execution_count": 59,
   "id": "f0a6b54a-ecb5-4d76-94b7-8a789d7c4489",
   "metadata": {},
   "outputs": [
    {
     "data": {
      "text/plain": [
       "(0.2747051417827606, 0.8837000131607056)"
      ]
     },
     "execution_count": 59,
     "metadata": {},
     "output_type": "execute_result"
    }
   ],
   "source": [
    "loss, accuracy"
   ]
  },
  {
   "cell_type": "code",
   "execution_count": 63,
   "id": "029ecb53-f1c8-4e94-9aeb-30cbc2734560",
   "metadata": {},
   "outputs": [
    {
     "name": "stdout",
     "output_type": "stream",
     "text": [
      "\u001b[1m313/313\u001b[0m \u001b[32m━━━━━━━━━━━━━━━━━━━━\u001b[0m\u001b[37m\u001b[0m \u001b[1m8s\u001b[0m 25ms/step\n"
     ]
    }
   ],
   "source": [
    "# Generate y_predictions for calculating metrics\n",
    "y_pred = (model.predict(X_test_pad) > 0.5).astype(\"int32\")"
   ]
  },
  {
   "cell_type": "code",
   "execution_count": 64,
   "id": "f2b921cf-9be5-4c9a-829b-18c2ed7f8031",
   "metadata": {},
   "outputs": [
    {
     "name": "stdout",
     "output_type": "stream",
     "text": [
      "              precision    recall  f1-score   support\n",
      "\n",
      "           0       0.90      0.86      0.88      4959\n",
      "           1       0.87      0.91      0.89      5041\n",
      "\n",
      "    accuracy                           0.88     10000\n",
      "   macro avg       0.88      0.88      0.88     10000\n",
      "weighted avg       0.88      0.88      0.88     10000\n",
      "\n"
     ]
    }
   ],
   "source": [
    "# Print the Classification Report\n",
    "from sklearn.metrics import classification_report\n",
    "\n",
    "print(classification_report(y_test, y_pred))"
   ]
  },
  {
   "cell_type": "markdown",
   "id": "83855c1b-8c06-41cb-bdf4-059a928542d9",
   "metadata": {},
   "source": [
    "### 7. Generate New Predictions for unseen data"
   ]
  },
  {
   "cell_type": "code",
   "execution_count": 67,
   "id": "112b2d7e-5d35-4c47-967c-0173dba698cf",
   "metadata": {},
   "outputs": [],
   "source": [
    "review = [\"This movie was a complete waste of time and money\"]\n",
    "review_seq = tokenizer.texts_to_sequences(review)\n",
    "review_pad = pad_sequences(review_seq, maxlen=maxlen, padding='post')"
   ]
  },
  {
   "cell_type": "code",
   "execution_count": 71,
   "id": "f6273d41-767d-4f1a-883e-8b9021a1e6c6",
   "metadata": {},
   "outputs": [
    {
     "name": "stdout",
     "output_type": "stream",
     "text": [
      "\u001b[1m1/1\u001b[0m \u001b[32m━━━━━━━━━━━━━━━━━━━━\u001b[0m\u001b[37m\u001b[0m \u001b[1m0s\u001b[0m 23ms/step\n",
      "Predicted Sentiment: Negative\n"
     ]
    }
   ],
   "source": [
    "prediction = model.predict(review_pad)\n",
    "print(\"Predicted Sentiment:\", \"Positive\" if prediction > 0.5 else \"Negative\")"
   ]
  },
  {
   "cell_type": "code",
   "execution_count": 76,
   "id": "27e94365-1db0-45fb-96d6-918330575740",
   "metadata": {},
   "outputs": [],
   "source": [
    "review = [\"This movie is really motive\"]\n",
    "review_seq = tokenizer.texts_to_sequences(review)\n",
    "review_pad = pad_sequences(review_seq, maxlen=maxlen, padding='post')"
   ]
  },
  {
   "cell_type": "code",
   "execution_count": 77,
   "id": "dc4b2de6-2cd0-4b3f-9a3f-89537ab2c0a7",
   "metadata": {},
   "outputs": [
    {
     "name": "stdout",
     "output_type": "stream",
     "text": [
      "\u001b[1m1/1\u001b[0m \u001b[32m━━━━━━━━━━━━━━━━━━━━\u001b[0m\u001b[37m\u001b[0m \u001b[1m0s\u001b[0m 28ms/step\n",
      "Predicted Sentiment: Positive\n"
     ]
    }
   ],
   "source": [
    "prediction = model.predict(review_pad)\n",
    "print(\"Predicted Sentiment:\", \"Positive\" if prediction > 0.5 else \"Negative\")"
   ]
  },
  {
   "cell_type": "markdown",
   "id": "99eccde3-eb4d-440f-a536-ce6df9efdd1f",
   "metadata": {},
   "source": [
    "#### RESULT:\n",
    "The Bi-Directional LSTM model was successfully implemented on the IMDB dataset for sentiment analysis. The model achieved 88% accuracy on the test set, demonstrating its ability to predict the new reviews for unseen data."
   ]
  }
 ],
 "metadata": {
  "kernelspec": {
   "display_name": "Python 3 (ipykernel)",
   "language": "python",
   "name": "python3"
  },
  "language_info": {
   "codemirror_mode": {
    "name": "ipython",
    "version": 3
   },
   "file_extension": ".py",
   "mimetype": "text/x-python",
   "name": "python",
   "nbconvert_exporter": "python",
   "pygments_lexer": "ipython3",
   "version": "3.9.6"
  }
 },
 "nbformat": 4,
 "nbformat_minor": 5
}
