{
 "cells": [
  {
   "cell_type": "markdown",
   "id": "0f5133f9-0d25-41cc-a3f2-881282adbe56",
   "metadata": {
    "jp-MarkdownHeadingCollapsed": true
   },
   "source": [
    "<center><h4>EXPERIMENT 1</h4></center>"
   ]
  },
  {
   "cell_type": "markdown",
   "id": "7f7e0741-e7a2-477a-bdce-066564ae2170",
   "metadata": {},
   "source": [
    "<center><h4>HANDWRITTEN DIGIT CLASSIFICATION USING CNN (MNIST DATASET - GRAY SCALE)</h4></center>"
   ]
  },
  {
   "cell_type": "markdown",
   "id": "14529670-38ac-4524-ac28-737be1332115",
   "metadata": {
    "jp-MarkdownHeadingCollapsed": true
   },
   "source": [
    "#### AIM:\n",
    "To build and train a Convolutional Neural Network (CNN) model using the MNIST dataset to classify grayscale images of handwritten digits (0–9)."
   ]
  },
  {
   "cell_type": "markdown",
   "id": "c168f7c0-3e52-4ce8-8e05-f92867c24158",
   "metadata": {},
   "source": [
    "#### PRE-REQUISITES:\n",
    "1. Basics of Machine Learning\n",
    "2. Python Programming\n",
    "3. Knowledge on Numpy, Pandas, Matplotlib, TensorFlow/ Keras\n",
    "4. Jupyter Notebook\n",
    "5. Data Pre-Processing Techniques\n",
    "6. Knowledge on Neural Networks"
   ]
  },
  {
   "cell_type": "markdown",
   "id": "bf91cfd7-5f67-41ae-bc80-bc488759e938",
   "metadata": {},
   "source": [
    "#### MNIST Dataset"
   ]
  },
  {
   "cell_type": "markdown",
   "id": "1c065bff-14f3-4da0-89b8-84d25c0bed88",
   "metadata": {},
   "source": [
    "- The MNIST data set contains handwritten single digits from 0 to 9. \n",
    "- This data set can be easily accessed with Keras.\n",
    "- The data set ha 60,000 Training and 10,000 Testing Images.\n",
    "- Each digit image is a 28x28 Matrix."
   ]
  },
  {
   "cell_type": "markdown",
   "id": "890b1b44-6900-4383-b3d3-65270a8e15cd",
   "metadata": {},
   "source": [
    "<center><img src='MNIST.png' border=1 height=200 width=400></center>"
   ]
  },
  {
   "cell_type": "markdown",
   "id": "02602361-8fc2-4159-9967-74042b59bfde",
   "metadata": {},
   "source": [
    "### 1. Importing the Basic Libraries"
   ]
  },
  {
   "cell_type": "code",
   "execution_count": null,
   "id": "a80513c1-9461-454b-8ac3-c44eaae751b6",
   "metadata": {},
   "outputs": [],
   "source": [
    "import pandas as pd\n",
    "import numpy as np\n",
    "import matplotlib.pyplot as plt\n",
    "\n",
    "# It tells Jupyter to display Matplotlib plots directly below the code cell that produced them, inside the notebook.\n",
    "# You don’t need to call plt.show() \n",
    "%matplotlib inline"
   ]
  },
  {
   "cell_type": "markdown",
   "id": "de315551-6cb8-41ae-9dad-115e6facfb07",
   "metadata": {},
   "source": [
    "### 2. Importing the Built-in MNIST dataset from the Keras"
   ]
  },
  {
   "cell_type": "code",
   "execution_count": null,
   "id": "7c384740-183b-42dd-b3ca-862e97c66ca5",
   "metadata": {},
   "outputs": [],
   "source": [
    "from tensorflow.keras.datasets import mnist"
   ]
  },
  {
   "cell_type": "code",
   "execution_count": null,
   "id": "7e418c07-9fa5-4b63-bb9f-7a35ee74551d",
   "metadata": {},
   "outputs": [],
   "source": [
    "# Load the MNIST dataset as Training and Testing data\n",
    "(X_train,y_train),(X_test,y_test) = mnist.load_data()"
   ]
  },
  {
   "cell_type": "code",
   "execution_count": null,
   "id": "a20d9c41-f7af-46ba-9dff-c68b1f6dc407",
   "metadata": {},
   "outputs": [],
   "source": [
    "X_train.shape, y_train.shape\n",
    "# 60,000 Images, each image is 28x28 pixel"
   ]
  },
  {
   "cell_type": "code",
   "execution_count": null,
   "id": "09903794-951a-4c9a-a993-75718caa8417",
   "metadata": {},
   "outputs": [],
   "source": [
    "# Reading one Image of the MNIST X_train data\n",
    "X_train[10]"
   ]
  },
  {
   "cell_type": "code",
   "execution_count": null,
   "id": "12e5377e-019b-48c7-bbb8-356477febb53",
   "metadata": {},
   "outputs": [],
   "source": [
    "# Viewing the Image 8 of X_train\n",
    "plt.imshow(X_train[10])"
   ]
  },
  {
   "cell_type": "code",
   "execution_count": null,
   "id": "2a027f08-982d-4422-be91-818d1742b11b",
   "metadata": {},
   "outputs": [],
   "source": [
    "# Checking y_train data\n",
    "y_train"
   ]
  },
  {
   "cell_type": "markdown",
   "id": "3230d0ab-9407-4bd2-891e-7a3b84bf6168",
   "metadata": {},
   "source": [
    "### 3. Pre-Process the Data as required"
   ]
  },
  {
   "cell_type": "markdown",
   "id": "6cd3d92a-a91f-4578-8148-a4fb62972f79",
   "metadata": {},
   "source": [
    "##### Since, this is classification problem, we need to encode the y_train data, If not, the model assume the y label is a continuous data"
   ]
  },
  {
   "cell_type": "code",
   "execution_count": null,
   "id": "d3453de0-69e6-48ee-92ba-bb6486e4f327",
   "metadata": {},
   "outputs": [],
   "source": [
    "# Import the library\n",
    "from tensorflow.keras.utils import to_categorical"
   ]
  },
  {
   "cell_type": "code",
   "execution_count": null,
   "id": "7c8040a9-7f33-4d56-82fd-a1ad9e9ca2ef",
   "metadata": {},
   "outputs": [],
   "source": [
    "# Shape of the y_train\n",
    "y_train.shape"
   ]
  },
  {
   "cell_type": "markdown",
   "id": "0790ddf6-6e58-4c9f-a491-d59e1b23ab90",
   "metadata": {},
   "source": [
    "#### One-hot Encoding the y"
   ]
  },
  {
   "cell_type": "code",
   "execution_count": null,
   "id": "f63c4901-15eb-4043-9c6a-86d1b321a8fd",
   "metadata": {},
   "outputs": [],
   "source": [
    "# Convert class labels to one-hot encoding\n",
    "# num_classes=10 tells the function that your classification task has 10 different classes\n",
    "y_train_cat = to_categorical(y_train, num_classes=10)\n",
    "y_test_cat = to_categorical(y_test, num_classes=10) "
   ]
  },
  {
   "cell_type": "code",
   "execution_count": null,
   "id": "988f1c7b-b6b0-4ed5-ae95-3ba7fb67b702",
   "metadata": {},
   "outputs": [],
   "source": [
    "# the index of one represents the actual output digit\n",
    "# the 8th row belongs to digit 1\n",
    "y_train_cat[10]"
   ]
  },
  {
   "cell_type": "markdown",
   "id": "01fbace1-1727-4a38-8b5c-536e1ffbaccb",
   "metadata": {},
   "source": [
    "#### Scaling the Data"
   ]
  },
  {
   "cell_type": "code",
   "execution_count": null,
   "id": "0b055adf-e72f-4ee5-874a-a59c83fbe78c",
   "metadata": {},
   "outputs": [],
   "source": [
    "# Each pixel value of every image is ranging from 0 to 255\n",
    "# So, normalize every value in between 0 to 1"
   ]
  },
  {
   "cell_type": "code",
   "execution_count": null,
   "id": "46c8f5f6-f0a0-4e44-8f2d-2bfbae5ffb87",
   "metadata": {},
   "outputs": [],
   "source": [
    "# Normalize the pixel values to range [0, 1]\n",
    "# the max value of any pixel is 255, so dividing each value with 255 will normalize the value to maximum 1\n",
    "X_train = X_train / 255.0\n",
    "X_test = X_test / 255.0"
   ]
  },
  {
   "cell_type": "markdown",
   "id": "164226a5-8002-45dd-832a-686d945d759b",
   "metadata": {},
   "source": [
    "#### Re-shaping the Data"
   ]
  },
  {
   "cell_type": "code",
   "execution_count": null,
   "id": "db7a8817-94e0-4978-81f1-3f38e18c0717",
   "metadata": {},
   "outputs": [],
   "source": [
    "X_train.shape, X_test.shape"
   ]
  },
  {
   "cell_type": "markdown",
   "id": "9292de7c-5bf2-4408-b519-d81361c1a3ae",
   "metadata": {},
   "source": [
    "- We reshape MNIST images from (28, 28) to (28, 28, 1) because Convolutional Neural Networks (CNNs) require input data to include a channel dimension—and since MNIST images are grayscale, the channel value is 1, making the input shape compatible with <b>CNN layers that expect 3D input: height, width, and channels.</b>"
   ]
  },
  {
   "cell_type": "code",
   "execution_count": null,
   "id": "0fe95b6e-1239-411f-92fc-1692a0174d9c",
   "metadata": {},
   "outputs": [],
   "source": [
    "# Reshape data to add channel dimension (1 for grayscale)\n",
    "\n",
    "# batch size, height, width, colour channel)\n",
    "X_train = X_train.reshape(60000,28,28,1)\n",
    "X_test = X_test.reshape(10000,28,28,1)"
   ]
  },
  {
   "cell_type": "markdown",
   "id": "12a10f4b-2fa7-4757-ba40-92ac40bb3b86",
   "metadata": {},
   "source": [
    "### 4. Build the Model"
   ]
  },
  {
   "cell_type": "code",
   "execution_count": null,
   "id": "7d663d51-657c-4079-b3ef-dd37a7969d9c",
   "metadata": {},
   "outputs": [],
   "source": [
    "# import the libraries\n",
    "from tensorflow.keras.models import Sequential\n",
    "from tensorflow.keras.layers import Dense, Conv2D, MaxPool2D, Flatten"
   ]
  },
  {
   "cell_type": "markdown",
   "id": "70a76d7b-bcdb-421c-94a3-91b7f5798d12",
   "metadata": {},
   "source": [
    "#### Create the Model"
   ]
  },
  {
   "cell_type": "code",
   "execution_count": null,
   "id": "d7a972d3-0dd9-411e-8562-ddfcb345090e",
   "metadata": {},
   "outputs": [],
   "source": [
    "# Model Instance\n",
    "model = Sequential()"
   ]
  },
  {
   "cell_type": "code",
   "execution_count": null,
   "id": "cb33d05b-c269-4937-8a41-559126186887",
   "metadata": {},
   "outputs": [],
   "source": [
    "# Convolution Layer\n",
    "model.add(Conv2D(filters=32,kernel_size=(4,4),input_shape=(28,28,1),activation='relu'))"
   ]
  },
  {
   "cell_type": "code",
   "execution_count": null,
   "id": "d81221d5-9d4e-4cf3-8209-d0b3bbd81c7e",
   "metadata": {},
   "outputs": [],
   "source": [
    "# Pooling Layer\n",
    "model.add(MaxPool2D(pool_size=(2,2)))"
   ]
  },
  {
   "cell_type": "code",
   "execution_count": null,
   "id": "a7210d46-3e9c-43ce-b2a0-0840cdb1da48",
   "metadata": {},
   "outputs": [],
   "source": [
    "# Flatten Layer\n",
    "model.add(Flatten())"
   ]
  },
  {
   "cell_type": "code",
   "execution_count": null,
   "id": "9197bc96-7c97-4159-86c8-6acd4ec47818",
   "metadata": {},
   "outputs": [],
   "source": [
    "# Dense Layers (Fully Connected Layers)\n",
    "model.add(Dense(128,activation='relu'))"
   ]
  },
  {
   "cell_type": "code",
   "execution_count": null,
   "id": "027e4295-2055-4c39-8d32-fef109d7496f",
   "metadata": {},
   "outputs": [],
   "source": [
    "# Output Layer (For multiclass use softmax)\n",
    "model.add(Dense(10,activation='softmax'))"
   ]
  },
  {
   "cell_type": "markdown",
   "id": "af9d588f-8abc-4b6f-bc59-78c6ce65fc1e",
   "metadata": {},
   "source": [
    "#### Compile the Model"
   ]
  },
  {
   "cell_type": "code",
   "execution_count": null,
   "id": "c68161bd-ba53-459c-8b01-5607b581c446",
   "metadata": {},
   "outputs": [],
   "source": [
    "model.compile(loss='categorical_crossentropy', optimizer='adam', metrics=['accuracy'])\n",
    "# loss - Optimizer that adjusts weights to minimize loss\n",
    "# optimizer - Suitable for multi-class classification with one-hot labels\n",
    "# accuracy - Track model performance using accuracy metric"
   ]
  },
  {
   "cell_type": "markdown",
   "id": "7e1d9b1f-350c-4e6f-9a90-522dd97fdae1",
   "metadata": {},
   "source": [
    "### 4. Train the Model"
   ]
  },
  {
   "cell_type": "code",
   "execution_count": null,
   "id": "12e816de-e2e9-4e1c-ace9-2d7cc2294143",
   "metadata": {},
   "outputs": [],
   "source": [
    "# Train the model with Early Stopping\n",
    "from tensorflow.keras.callbacks import EarlyStopping"
   ]
  },
  {
   "cell_type": "code",
   "execution_count": null,
   "id": "b2781a4d-24bd-4817-a79e-310e810a046b",
   "metadata": {},
   "outputs": [],
   "source": [
    "early_stop = EarlyStopping(monitor='val_loss', patience=1)"
   ]
  },
  {
   "cell_type": "code",
   "execution_count": 122,
   "id": "04aa96bc-9dbe-4c87-b310-714892bb29df",
   "metadata": {},
   "outputs": [
    {
     "name": "stdout",
     "output_type": "stream",
     "text": [
      "\u001b[1m1875/1875\u001b[0m \u001b[32m━━━━━━━━━━━━━━━━━━━━\u001b[0m\u001b[37m\u001b[0m \u001b[1m8s\u001b[0m 4ms/step - accuracy: 0.9863 - loss: 0.0447 - val_accuracy: 0.9815 - val_loss: 0.0505\n",
      "Epoch 3/10\n",
      "\u001b[1m1875/1875\u001b[0m \u001b[32m━━━━━━━━━━━━━━━━━━━━\u001b[0m\u001b[37m\u001b[0m \u001b[1m7s\u001b[0m 4ms/step - accuracy: 0.9910 - loss: 0.0298 - val_accuracy: 0.9879 - val_loss: 0.0373\n",
      "Epoch 4/10\n",
      "\u001b[1m1875/1875\u001b[0m \u001b[32m━━━━━━━━━━━━━━━━━━━━\u001b[0m\u001b[37m\u001b[0m \u001b[1m7s\u001b[0m 4ms/step - accuracy: 0.9943 - loss: 0.0179 - val_accuracy: 0.9884 - val_loss: 0.0386\n"
     ]
    },
    {
     "data": {
      "text/plain": [
       "<keras.src.callbacks.history.History at 0x3093325e0>"
      ]
     },
     "execution_count": 122,
     "metadata": {},
     "output_type": "execute_result"
    }
   ],
   "source": [
    "# Train the model\n",
    "model.fit(X_train, y_train_cat, epochs=10, validation_data=(X_test,y_test_cat), callbacks=[early_stop])"
   ]
  },
  {
   "cell_type": "markdown",
   "id": "d69d1d8b-ea1a-47b5-8c73-0a087e88b3de",
   "metadata": {},
   "source": [
    "### 5. Evaluate the Model"
   ]
  },
  {
   "cell_type": "code",
   "execution_count": 123,
   "id": "29210ff6-2705-40df-a7e9-12a2a8ae880b",
   "metadata": {},
   "outputs": [
    {
     "data": {
      "text/html": [
       "<div>\n",
       "<style scoped>\n",
       "    .dataframe tbody tr th:only-of-type {\n",
       "        vertical-align: middle;\n",
       "    }\n",
       "\n",
       "    .dataframe tbody tr th {\n",
       "        vertical-align: top;\n",
       "    }\n",
       "\n",
       "    .dataframe thead th {\n",
       "        text-align: right;\n",
       "    }\n",
       "</style>\n",
       "<table border=\"1\" class=\"dataframe\">\n",
       "  <thead>\n",
       "    <tr style=\"text-align: right;\">\n",
       "      <th></th>\n",
       "      <th>accuracy</th>\n",
       "      <th>loss</th>\n",
       "      <th>val_accuracy</th>\n",
       "      <th>val_loss</th>\n",
       "    </tr>\n",
       "  </thead>\n",
       "  <tbody>\n",
       "    <tr>\n",
       "      <th>0</th>\n",
       "      <td>0.960483</td>\n",
       "      <td>0.131335</td>\n",
       "      <td>0.9799</td>\n",
       "      <td>0.060219</td>\n",
       "    </tr>\n",
       "    <tr>\n",
       "      <th>1</th>\n",
       "      <td>0.986533</td>\n",
       "      <td>0.044437</td>\n",
       "      <td>0.9815</td>\n",
       "      <td>0.050509</td>\n",
       "    </tr>\n",
       "    <tr>\n",
       "      <th>2</th>\n",
       "      <td>0.990483</td>\n",
       "      <td>0.030205</td>\n",
       "      <td>0.9879</td>\n",
       "      <td>0.037265</td>\n",
       "    </tr>\n",
       "    <tr>\n",
       "      <th>3</th>\n",
       "      <td>0.993750</td>\n",
       "      <td>0.019710</td>\n",
       "      <td>0.9884</td>\n",
       "      <td>0.038615</td>\n",
       "    </tr>\n",
       "  </tbody>\n",
       "</table>\n",
       "</div>"
      ],
      "text/plain": [
       "   accuracy      loss  val_accuracy  val_loss\n",
       "0  0.960483  0.131335        0.9799  0.060219\n",
       "1  0.986533  0.044437        0.9815  0.050509\n",
       "2  0.990483  0.030205        0.9879  0.037265\n",
       "3  0.993750  0.019710        0.9884  0.038615"
      ]
     },
     "execution_count": 123,
     "metadata": {},
     "output_type": "execute_result"
    }
   ],
   "source": [
    "# Plot the accuracy because we used accuracy metric while compiling the model\n",
    "metrics = pd.DataFrame(model.history.history)\n",
    "metrics"
   ]
  },
  {
   "cell_type": "code",
   "execution_count": 124,
   "id": "dfaacb3a-4c5d-4394-a2ae-99a85a5e1479",
   "metadata": {},
   "outputs": [
    {
     "data": {
      "text/plain": [
       "<Axes: >"
      ]
     },
     "execution_count": 124,
     "metadata": {},
     "output_type": "execute_result"
    },
    {
     "data": {
      "image/png": "[encoded data removed]",
      "text/plain": [
       "<Figure size 640x480 with 1 Axes>"
      ]
     },
     "metadata": {},
     "output_type": "display_data"
    }
   ],
   "source": [
    "# Plot loss\n",
    "metrics[['loss', 'val_loss']].plot()"
   ]
  },
  {
   "cell_type": "code",
   "execution_count": 125,
   "id": "d0f01e47-d70c-46bd-bd99-0740a25851c3",
   "metadata": {},
   "outputs": [
    {
     "data": {
      "text/plain": [
       "<Axes: >"
      ]
     },
     "execution_count": 125,
     "metadata": {},
     "output_type": "execute_result"
    },
    {
     "data": {
      "image/png": "[encoded data removed]",
      "text/plain": [
       "<Figure size 640x480 with 1 Axes>"
      ]
     },
     "metadata": {},
     "output_type": "display_data"
    }
   ],
   "source": [
    "# Plot accuracy\n",
    "metrics[['accuracy', 'val_accuracy']].plot()"
   ]
  },
  {
   "cell_type": "markdown",
   "id": "5d44d2b8-18f1-4df7-beda-b6fe2157ade0",
   "metadata": {},
   "source": [
    "#### Classification report"
   ]
  },
  {
   "cell_type": "code",
   "execution_count": 126,
   "id": "00e93bc7-86d1-43c0-bbe0-9acbff8456a4",
   "metadata": {},
   "outputs": [],
   "source": [
    "from sklearn.metrics import classification_report, confusion_matrix"
   ]
  },
  {
   "cell_type": "code",
   "execution_count": 127,
   "id": "882ce62a-6fe6-4155-b0df-4b1b30381f19",
   "metadata": {},
   "outputs": [
    {
     "name": "stdout",
     "output_type": "stream",
     "text": [
      "\u001b[1m313/313\u001b[0m \u001b[32m━━━━━━━━━━━━━━━━━━━━\u001b[0m\u001b[37m\u001b[0m \u001b[1m0s\u001b[0m 930us/step\n"
     ]
    }
   ],
   "source": [
    "# Get the Classifications on test data\n",
    "y_pred = model.predict(X_test)"
   ]
  },
  {
   "cell_type": "code",
   "execution_count": 128,
   "id": "f680d632-6960-4b70-ac24-d77311d6db64",
   "metadata": {},
   "outputs": [],
   "source": [
    "# y_test is one-hot encoded, convert it to class labels too\n",
    "y_pred = np.argmax(y_pred, axis=1)"
   ]
  },
  {
   "cell_type": "code",
   "execution_count": 129,
   "id": "86a08a36-0801-45ed-ae11-cf4ca1a51d15",
   "metadata": {},
   "outputs": [
    {
     "name": "stdout",
     "output_type": "stream",
     "text": [
      "              precision    recall  f1-score   support\n",
      "\n",
      "           0       0.98      1.00      0.99       980\n",
      "           1       0.99      0.99      0.99      1135\n",
      "           2       0.98      0.99      0.99      1032\n",
      "           3       0.99      0.99      0.99      1010\n",
      "           4       0.99      0.98      0.99       982\n",
      "           5       1.00      0.99      0.99       892\n",
      "           6       0.99      0.99      0.99       958\n",
      "           7       0.98      0.98      0.98      1028\n",
      "           8       0.99      0.99      0.99       974\n",
      "           9       0.99      0.98      0.98      1009\n",
      "\n",
      "    accuracy                           0.99     10000\n",
      "   macro avg       0.99      0.99      0.99     10000\n",
      "weighted avg       0.99      0.99      0.99     10000\n",
      "\n"
     ]
    }
   ],
   "source": [
    "# Classification Report\n",
    "print(classification_report(y_test,y_pred))"
   ]
  },
  {
   "cell_type": "code",
   "execution_count": 130,
   "id": "a127f348-8978-4114-9046-5b931369bbd5",
   "metadata": {},
   "outputs": [
    {
     "name": "stdout",
     "output_type": "stream",
     "text": [
      "[[ 977    0    1    0    0    0    1    1    0    0]\n",
      " [   1 1128    3    1    0    0    1    0    1    0]\n",
      " [   0    0 1024    0    0    0    0    6    2    0]\n",
      " [   0    0    0 1004    0    1    0    2    3    0]\n",
      " [   0    0    2    0  966    0    4    0    1    9]\n",
      " [   2    0    1    8    0  879    2    0    0    0]\n",
      " [   6    2    1    0    1    1  945    0    2    0]\n",
      " [   0    2    9    0    0    0    0 1012    1    4]\n",
      " [   6    0    1    2    0    0    0    2  961    2]\n",
      " [   2    2    0    1    4    2    0    7    3  988]]\n"
     ]
    }
   ],
   "source": [
    "# Confusion Matrix\n",
    "print(confusion_matrix(y_test,y_pred))"
   ]
  },
  {
   "cell_type": "markdown",
   "id": "a2324dee-7858-43e6-b01b-40f3704f9c8c",
   "metadata": {},
   "source": [
    "#### Classiying the new image"
   ]
  },
  {
   "cell_type": "code",
   "execution_count": 131,
   "id": "45e31ac3-6213-461e-bd76-30d29ccc0e02",
   "metadata": {},
   "outputs": [],
   "source": [
    "from tensorflow.keras.preprocessing import image\n",
    "from PIL import Image\n",
    "\n",
    "# Convert to grayscale\n",
    "new_image = Image.open('two.png').convert('L')"
   ]
  },
  {
   "cell_type": "code",
   "execution_count": 132,
   "id": "b69e081d-8c59-4a50-8635-19a9130cd3af",
   "metadata": {},
   "outputs": [],
   "source": [
    "# Resize to 28x28\n",
    "new_image = new_image.resize((28, 28))                  "
   ]
  },
  {
   "cell_type": "code",
   "execution_count": 133,
   "id": "346e6180-c401-4572-8052-0c967582a4bf",
   "metadata": {},
   "outputs": [
    {
     "data": {
      "image/jpeg": "[encoded data removed]",
      "image/png": "[encoded data removed]",
      "text/plain": [
       "<PIL.Image.Image image mode=L size=28x28>"
      ]
     },
     "execution_count": 133,
     "metadata": {},
     "output_type": "execute_result"
    }
   ],
   "source": [
    "new_image"
   ]
  },
  {
   "cell_type": "code",
   "execution_count": 134,
   "id": "d281b9b2-6b7c-4e57-ac8b-a926f0740a1f",
   "metadata": {},
   "outputs": [],
   "source": [
    "# Convert to NumPy array and normalize\n",
    "img_array = np.array(new_image)\n",
    "img_array = img_array / 255.0 "
   ]
  },
  {
   "cell_type": "code",
   "execution_count": 135,
   "id": "f07c7c7d-b45f-4403-8d8b-8e18c2f97f85",
   "metadata": {},
   "outputs": [
    {
     "data": {
      "text/plain": [
       "<matplotlib.image.AxesImage at 0x3096210d0>"
      ]
     },
     "execution_count": 135,
     "metadata": {},
     "output_type": "execute_result"
    },
    {
     "data": {
      "image/png": "[encoded data removed]",
      "text/plain": [
       "<Figure size 640x480 with 1 Axes>"
      ]
     },
     "metadata": {},
     "output_type": "display_data"
    }
   ],
   "source": [
    "plt.imshow(img_array)"
   ]
  },
  {
   "cell_type": "code",
   "execution_count": 136,
   "id": "d9443971-86d8-4874-a2ea-1032a4451307",
   "metadata": {},
   "outputs": [],
   "source": [
    "# Reshape to match input shape of model: (1, 28, 28, 1)\n",
    "img_array = img_array.reshape(1, 28, 28, 1)"
   ]
  },
  {
   "cell_type": "code",
   "execution_count": 137,
   "id": "0081b481-8a8e-4d98-9409-b8fb2234a36c",
   "metadata": {},
   "outputs": [
    {
     "name": "stdout",
     "output_type": "stream",
     "text": [
      "\u001b[1m1/1\u001b[0m \u001b[32m━━━━━━━━━━━━━━━━━━━━\u001b[0m\u001b[37m\u001b[0m \u001b[1m0s\u001b[0m 12ms/step\n"
     ]
    }
   ],
   "source": [
    "pred = model.predict(img_array)"
   ]
  },
  {
   "cell_type": "code",
   "execution_count": 138,
   "id": "c16c8b54-6f9e-44cf-a7c7-ad9df0544fa6",
   "metadata": {},
   "outputs": [
    {
     "data": {
      "text/plain": [
       "array([2])"
      ]
     },
     "execution_count": 138,
     "metadata": {},
     "output_type": "execute_result"
    }
   ],
   "source": [
    "np.argmax(pred, axis=1)"
   ]
  },
  {
   "cell_type": "markdown",
   "id": "e538675e-26f4-42df-a774-62a6677803ef",
   "metadata": {},
   "source": [
    "#### RESULT:\n",
    "A Convolutional Neural Network (CNN) model was successfully developed and trained using the MNIST dataset to classify grayscale images of handwritten digits (0–9) and the model achieved high accuracy and able to correctly predict digits from custom input images."
   ]
  },
  {
   "cell_type": "code",
   "execution_count": null,
   "id": "a669c462-32ea-4f91-b893-dd774cbf6264",
   "metadata": {},
   "outputs": [],
   "source": []
  }
 ],
 "metadata": {
  "kernelspec": {
   "display_name": "Python 3 (ipykernel)",
   "language": "python",
   "name": "python3"
  },
  "language_info": {
   "codemirror_mode": {
    "name": "ipython",
    "version": 3
   },
   "file_extension": ".py",
   "mimetype": "text/x-python",
   "name": "python",
   "nbconvert_exporter": "python",
   "pygments_lexer": "ipython3",
   "version": "3.9.6"
  }
 },
 "nbformat": 4,
 "nbformat_minor": 5
}
